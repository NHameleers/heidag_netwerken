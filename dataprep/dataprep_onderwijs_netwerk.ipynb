{
 "cells": [
  {
   "cell_type": "code",
   "execution_count": 2,
   "id": "83f685e4",
   "metadata": {
    "ExecuteTime": {
     "end_time": "2022-05-30T14:37:08.374944Z",
     "start_time": "2022-05-30T14:37:07.152597Z"
    }
   },
   "outputs": [],
   "source": [
    "import pandas as pd"
   ]
  },
  {
   "cell_type": "code",
   "execution_count": 3,
   "id": "43921ec5",
   "metadata": {
    "ExecuteTime": {
     "end_time": "2022-05-30T14:37:08.406138Z",
     "start_time": "2022-05-30T14:37:08.382807Z"
    }
   },
   "outputs": [],
   "source": [
    "def drop_niet_blokken(df):\n",
    "    '''Unit is een combinatie van 4 cijfers als het om een overkoepelende term gaat.\n",
    "    Door alleen de regels over te houden waar unit uit meer dan 4 characters bestaat,\n",
    "    houden we de regels over blokken over.'''\n",
    "    dataf = df.copy()\n",
    "    return dataf.loc[dataf.Unit.str.len() > 4, ]"
   ]
  },
  {
   "cell_type": "code",
   "execution_count": 4,
   "id": "28abbc1e",
   "metadata": {
    "ExecuteTime": {
     "end_time": "2022-05-30T14:37:09.079376Z",
     "start_time": "2022-05-30T14:37:08.411133Z"
    }
   },
   "outputs": [],
   "source": [
    "\n",
    "def get_vaste_staf_namelist(excelfile):\n",
    "    namen = pd.read_excel(excelfile, sheet_name='Sheet1')\n",
    "\n",
    "    return list(namen['Volledige naam'].values)\n",
    "\n",
    "VASTE_STAF_NAMEN = get_vaste_staf_namelist('../Data/HSR Vaste staf 01-05-2022.XLSX')\n",
    "\n",
    "def check_if_vaste_staf(naam, vaste_staf_namen=VASTE_STAF_NAMEN):\n",
    "\n",
    "    return naam in vaste_staf_namen\n",
    "\n",
    "def check_if_vaste_staf_achternaam(achternaam, vaste_staf_namen=VASTE_STAF_NAMEN):\n",
    "    vaste_staf_achternamen = [naam.split(' ')[-1].lower() for naam in vaste_staf_namen]\n",
    "\n",
    "    return achternaam.lower() in vaste_staf_achternamen"
   ]
  },
  {
   "cell_type": "code",
   "execution_count": 5,
   "id": "4bf0aea6",
   "metadata": {
    "ExecuteTime": {
     "end_time": "2022-05-30T14:37:09.125681Z",
     "start_time": "2022-05-30T14:37:09.086571Z"
    }
   },
   "outputs": [
    {
     "data": {
      "text/plain": [
       "False"
      ]
     },
     "execution_count": 5,
     "metadata": {},
     "output_type": "execute_result"
    }
   ],
   "source": [
    "check_if_vaste_staf_achternaam('Ruwa')"
   ]
  },
  {
   "cell_type": "code",
   "execution_count": 47,
   "id": "b097cf53",
   "metadata": {
    "ExecuteTime": {
     "end_time": "2022-05-30T14:49:52.088143Z",
     "start_time": "2022-05-30T14:49:52.050642Z"
    }
   },
   "outputs": [],
   "source": [
    "naam_mapping = pd.read_excel('../Data/HSR Vaste staf 01-05-2022.XLSX', sheet_name='NaamMapping')\n",
    "\n",
    "def onderwijsnaam_naar_onderzoeksnaam(naam, naam_mapping=naam_mapping):\n",
    "\n",
    "    return naam_mapping.loc[naam_mapping.OnderwijsNaam == naam, 'Volledige naam'].values[0]\n"
   ]
  },
  {
   "cell_type": "code",
   "execution_count": 48,
   "id": "99d5b123",
   "metadata": {
    "ExecuteTime": {
     "end_time": "2022-05-30T14:49:52.488517Z",
     "start_time": "2022-05-30T14:49:52.470936Z"
    }
   },
   "outputs": [
    {
     "data": {
      "text/plain": [
       "'Sandra Zwakhalen'"
      ]
     },
     "execution_count": 48,
     "metadata": {},
     "output_type": "execute_result"
    }
   ],
   "source": [
    "onderwijsnaam_naar_onderzoeksnaam('SMG Zwakhalen')"
   ]
  },
  {
   "cell_type": "code",
   "execution_count": 51,
   "id": "28997af7",
   "metadata": {
    "ExecuteTime": {
     "end_time": "2022-05-30T14:50:59.820127Z",
     "start_time": "2022-05-30T14:50:59.299708Z"
    }
   },
   "outputs": [
    {
     "data": {
      "text/html": [
       "<div>\n",
       "<style scoped>\n",
       "    .dataframe tbody tr th:only-of-type {\n",
       "        vertical-align: middle;\n",
       "    }\n",
       "\n",
       "    .dataframe tbody tr th {\n",
       "        vertical-align: top;\n",
       "    }\n",
       "\n",
       "    .dataframe thead th {\n",
       "        text-align: right;\n",
       "    }\n",
       "</style>\n",
       "<table border=\"1\" class=\"dataframe\">\n",
       "  <thead>\n",
       "    <tr style=\"text-align: right;\">\n",
       "      <th></th>\n",
       "      <th>Unit</th>\n",
       "      <th>Unit name</th>\n",
       "      <th>Category</th>\n",
       "      <th>Name</th>\n",
       "      <th>Prefix</th>\n",
       "      <th>Initials</th>\n",
       "      <th>Department</th>\n",
       "      <th>Role name</th>\n",
       "      <th>Year</th>\n",
       "      <th>UnitYear</th>\n",
       "      <th>Naam</th>\n",
       "      <th>is_vaste_staf</th>\n",
       "    </tr>\n",
       "  </thead>\n",
       "  <tbody>\n",
       "    <tr>\n",
       "      <th>3</th>\n",
       "      <td>GZW1021</td>\n",
       "      <td>Een Leven Lang Gezond</td>\n",
       "      <td>B</td>\n",
       "      <td>Zwakhalen</td>\n",
       "      <td></td>\n",
       "      <td>SMG</td>\n",
       "      <td>HSR</td>\n",
       "      <td>Member Planning Group</td>\n",
       "      <td>2019</td>\n",
       "      <td>GZW1021_2019</td>\n",
       "      <td>Sandra Zwakhalen</td>\n",
       "      <td>True</td>\n",
       "    </tr>\n",
       "    <tr>\n",
       "      <th>4</th>\n",
       "      <td>GZW1022</td>\n",
       "      <td>Bedreigingen van Gezondheid</td>\n",
       "      <td>B</td>\n",
       "      <td>Haastregt</td>\n",
       "      <td>van</td>\n",
       "      <td>JCM</td>\n",
       "      <td>HSR</td>\n",
       "      <td>Member Planning Group</td>\n",
       "      <td>2019</td>\n",
       "      <td>GZW1022_2019</td>\n",
       "      <td>Jolanda van Haastregt</td>\n",
       "      <td>True</td>\n",
       "    </tr>\n",
       "    <tr>\n",
       "      <th>5</th>\n",
       "      <td>GZW1024</td>\n",
       "      <td>Gezondheid, Voeding en Bewegen</td>\n",
       "      <td>C</td>\n",
       "      <td>Zijlstra</td>\n",
       "      <td></td>\n",
       "      <td>GAR</td>\n",
       "      <td>HSR</td>\n",
       "      <td>Coordinator Planning Group</td>\n",
       "      <td>2019</td>\n",
       "      <td>GZW1024_2019</td>\n",
       "      <td>G.A. Rixt Zijlstra</td>\n",
       "      <td>True</td>\n",
       "    </tr>\n",
       "    <tr>\n",
       "      <th>6</th>\n",
       "      <td>GZW1025</td>\n",
       "      <td>Zorg(en) voor Gezondheid</td>\n",
       "      <td>C</td>\n",
       "      <td>Groothuis</td>\n",
       "      <td></td>\n",
       "      <td>S</td>\n",
       "      <td>HSR</td>\n",
       "      <td>Coordinator Planning Group</td>\n",
       "      <td>2019</td>\n",
       "      <td>GZW1025_2019</td>\n",
       "      <td>Siebren Groothuis</td>\n",
       "      <td>True</td>\n",
       "    </tr>\n",
       "    <tr>\n",
       "      <th>7</th>\n",
       "      <td>GZW1025</td>\n",
       "      <td>Zorg(en) voor Gezondheid</td>\n",
       "      <td>B</td>\n",
       "      <td>Evers</td>\n",
       "      <td></td>\n",
       "      <td>SMAA</td>\n",
       "      <td>HSR</td>\n",
       "      <td>Member Planning Group</td>\n",
       "      <td>2019</td>\n",
       "      <td>GZW1025_2019</td>\n",
       "      <td>Silvia Evers</td>\n",
       "      <td>True</td>\n",
       "    </tr>\n",
       "    <tr>\n",
       "      <th>...</th>\n",
       "      <td>...</td>\n",
       "      <td>...</td>\n",
       "      <td>...</td>\n",
       "      <td>...</td>\n",
       "      <td>...</td>\n",
       "      <td>...</td>\n",
       "      <td>...</td>\n",
       "      <td>...</td>\n",
       "      <td>...</td>\n",
       "      <td>...</td>\n",
       "      <td>...</td>\n",
       "      <td>...</td>\n",
       "    </tr>\n",
       "    <tr>\n",
       "      <th>101</th>\n",
       "      <td>HPI4010</td>\n",
       "      <td>Organizing &amp; Managing Patient Flows</td>\n",
       "      <td>B</td>\n",
       "      <td>Raak</td>\n",
       "      <td>van</td>\n",
       "      <td>AJA</td>\n",
       "      <td>HSR</td>\n",
       "      <td>Member Planning Group</td>\n",
       "      <td>2021</td>\n",
       "      <td>HPI4010_2021</td>\n",
       "      <td>Arno van Raak</td>\n",
       "      <td>True</td>\n",
       "    </tr>\n",
       "    <tr>\n",
       "      <th>104</th>\n",
       "      <td>MPH0006</td>\n",
       "      <td>Global Health Economics</td>\n",
       "      <td>C</td>\n",
       "      <td>Pavlova</td>\n",
       "      <td></td>\n",
       "      <td>MI</td>\n",
       "      <td>HSR</td>\n",
       "      <td>Coordinator Planning Group</td>\n",
       "      <td>2021</td>\n",
       "      <td>MPH0006_2021</td>\n",
       "      <td>Milena Pavlova</td>\n",
       "      <td>True</td>\n",
       "    </tr>\n",
       "    <tr>\n",
       "      <th>105</th>\n",
       "      <td>MPH0007</td>\n",
       "      <td>Global Health Management</td>\n",
       "      <td>C</td>\n",
       "      <td>Pavlova</td>\n",
       "      <td></td>\n",
       "      <td>MI</td>\n",
       "      <td>HSR</td>\n",
       "      <td>Coordinator Planning Group</td>\n",
       "      <td>2021</td>\n",
       "      <td>MPH0007_2021</td>\n",
       "      <td>Milena Pavlova</td>\n",
       "      <td>True</td>\n",
       "    </tr>\n",
       "    <tr>\n",
       "      <th>108</th>\n",
       "      <td>HMS4802</td>\n",
       "      <td>The Enterpreneurial Healthcare Professional</td>\n",
       "      <td>C</td>\n",
       "      <td>Raak</td>\n",
       "      <td>van</td>\n",
       "      <td>AJA</td>\n",
       "      <td>HSR</td>\n",
       "      <td>Coordinator Planning Group</td>\n",
       "      <td>2021</td>\n",
       "      <td>HMS4802_2021</td>\n",
       "      <td>Arno van Raak</td>\n",
       "      <td>True</td>\n",
       "    </tr>\n",
       "    <tr>\n",
       "      <th>109</th>\n",
       "      <td>HMS4802</td>\n",
       "      <td>The Enterpreneurial Healthcare Professional</td>\n",
       "      <td>B</td>\n",
       "      <td>Govers</td>\n",
       "      <td></td>\n",
       "      <td>MJG</td>\n",
       "      <td>HSR</td>\n",
       "      <td>Member Planning Group</td>\n",
       "      <td>2021</td>\n",
       "      <td>HMS4802_2021</td>\n",
       "      <td>Mark Govers</td>\n",
       "      <td>True</td>\n",
       "    </tr>\n",
       "  </tbody>\n",
       "</table>\n",
       "<p>263 rows × 12 columns</p>\n",
       "</div>"
      ],
      "text/plain": [
       "        Unit                                    Unit name Category       Name  \\\n",
       "3    GZW1021                        Een Leven Lang Gezond        B  Zwakhalen   \n",
       "4    GZW1022                  Bedreigingen van Gezondheid        B  Haastregt   \n",
       "5    GZW1024               Gezondheid, Voeding en Bewegen        C   Zijlstra   \n",
       "6    GZW1025                     Zorg(en) voor Gezondheid        C  Groothuis   \n",
       "7    GZW1025                     Zorg(en) voor Gezondheid        B      Evers   \n",
       "..       ...                                          ...      ...        ...   \n",
       "101  HPI4010          Organizing & Managing Patient Flows        B       Raak   \n",
       "104  MPH0006                      Global Health Economics        C    Pavlova   \n",
       "105  MPH0007                     Global Health Management        C    Pavlova   \n",
       "108  HMS4802  The Enterpreneurial Healthcare Professional        C       Raak   \n",
       "109  HMS4802  The Enterpreneurial Healthcare Professional        B     Govers   \n",
       "\n",
       "    Prefix Initials Department                   Role name  Year  \\\n",
       "3               SMG        HSR       Member Planning Group  2019   \n",
       "4      van      JCM        HSR       Member Planning Group  2019   \n",
       "5               GAR        HSR  Coordinator Planning Group  2019   \n",
       "6                 S        HSR  Coordinator Planning Group  2019   \n",
       "7              SMAA        HSR       Member Planning Group  2019   \n",
       "..     ...      ...        ...                         ...   ...   \n",
       "101    van      AJA        HSR       Member Planning Group  2021   \n",
       "104              MI        HSR  Coordinator Planning Group  2021   \n",
       "105              MI        HSR  Coordinator Planning Group  2021   \n",
       "108    van      AJA        HSR  Coordinator Planning Group  2021   \n",
       "109             MJG        HSR       Member Planning Group  2021   \n",
       "\n",
       "         UnitYear                   Naam  is_vaste_staf  \n",
       "3    GZW1021_2019       Sandra Zwakhalen           True  \n",
       "4    GZW1022_2019  Jolanda van Haastregt           True  \n",
       "5    GZW1024_2019     G.A. Rixt Zijlstra           True  \n",
       "6    GZW1025_2019      Siebren Groothuis           True  \n",
       "7    GZW1025_2019           Silvia Evers           True  \n",
       "..            ...                    ...            ...  \n",
       "101  HPI4010_2021          Arno van Raak           True  \n",
       "104  MPH0006_2021         Milena Pavlova           True  \n",
       "105  MPH0007_2021         Milena Pavlova           True  \n",
       "108  HMS4802_2021          Arno van Raak           True  \n",
       "109  HMS4802_2021            Mark Govers           True  \n",
       "\n",
       "[263 rows x 12 columns]"
      ]
     },
     "execution_count": 51,
     "metadata": {},
     "output_type": "execute_result"
    }
   ],
   "source": [
    "files = ['../Data/BROS HSR realisations 2019-2020, 14.5.2022-Blokcoordinatoren en planningsgroepsleden.xlsx',\n",
    "        '../Data/BROS HSR realisations 2020-2021, 11.2.2022-Blokcoordinatoren en planningsgroepsleden.xlsx',\n",
    "        '../Data/BROS HSR realisations 2021-2022, 14.5.2022-Blokcoordinatoren en planningsgroepsleden.xlsx']\n",
    "\n",
    "onderwijs = pd.DataFrame()\n",
    "\n",
    "# zet alle jaren in 1 df\n",
    "for jaar, filename in zip(range(2019, 2022), files):\n",
    "    onderwijs = pd.concat([onderwijs, (pd.read_excel(filename,\n",
    "                                                     sheet_name='Realisations')\n",
    "                                       .dropna(subset=['Unit'])\n",
    "                                       .assign(Year=jaar)\n",
    "                                       .pipe(drop_niet_blokken)\n",
    "                                       .drop_duplicates())],\n",
    "                          axis=0)\n",
    "    \n",
    "onderwijs['UnitYear'] = [f\"{unit}_{year}\" for unit, year in zip(onderwijs['Unit'], onderwijs['Year'])]\n",
    "onderwijs['Prefix'] = onderwijs['Prefix'].fillna('')\n",
    "onderwijs['Naam'] = (onderwijs.Initials + \" \" + onderwijs.Prefix + \" \" + onderwijs.Name).str.replace(\"  \", \" \").str.replace(\"  \", \" \")\n",
    "\n",
    "# selecteer alleen vaste staf\n",
    "onderwijs['is_vaste_staf'] = onderwijs.Name.apply(check_if_vaste_staf_achternaam)\n",
    "onderwijs = onderwijs.loc[onderwijs.is_vaste_staf, ]\n",
    "\n",
    "# zorg dat namen gelijk geschreven zijn als in Pure/Onderzoek\n",
    "missing_before = onderwijs['Naam'].isnull().sum()\n",
    "onderwijs['Naam'] = [onderwijsnaam_naar_onderzoeksnaam(naam) for naam in onderwijs['Naam'].values]\n",
    "missing_after = onderwijs['Naam'].isnull().sum()\n",
    "assert missing_before == missing_after\n",
    "\n",
    "onderwijs.to_csv('../Data/onderwijs.csv', index=False)\n",
    "\n",
    "onderwijs"
   ]
  },
  {
   "cell_type": "code",
   "execution_count": 52,
   "id": "6990bdc7",
   "metadata": {
    "ExecuteTime": {
     "end_time": "2022-05-30T14:51:06.647357Z",
     "start_time": "2022-05-30T14:51:06.628363Z"
    }
   },
   "outputs": [
    {
     "data": {
      "text/plain": [
       "'Sandra Zwakhalen'"
      ]
     },
     "execution_count": 52,
     "metadata": {},
     "output_type": "execute_result"
    }
   ],
   "source": [
    "onderwijs.Naam.values[0]\n"
   ]
  },
  {
   "cell_type": "code",
   "execution_count": 55,
   "id": "f4bb0b57",
   "metadata": {
    "ExecuteTime": {
     "end_time": "2022-05-25T08:55:05.699133Z",
     "start_time": "2022-05-25T08:55:05.642447Z"
    }
   },
   "outputs": [
    {
     "data": {
      "text/plain": [
       "Counter({('S Groothuis', 'SMAA Evers'): 2,\n",
       "         ('S Groothuis', 'WNJ Groot'): 2,\n",
       "         ('SMAA Evers', 'WNJ Groot'): 4,\n",
       "         ('AMJ Elissen', 'GAR Zijlstra'): 1,\n",
       "         ('N de Jong', 'BS de Boer'): 4,\n",
       "         ('N de Jong', 'S Groothuis'): 3,\n",
       "         ('N de Jong', 'JPH Hamers'): 3,\n",
       "         ('BS de Boer', 'S Groothuis'): 3,\n",
       "         ('BS de Boer', 'JPH Hamers'): 3,\n",
       "         ('S Groothuis', 'JPH Hamers'): 3,\n",
       "         ('ATG Paulus', 'RMWA Drost'): 3,\n",
       "         ('ATG Paulus', 'AMJ Elissen'): 3,\n",
       "         ('ATG Paulus', 'SMAA Evers'): 3,\n",
       "         ('ATG Paulus', 'MJC Hiligsmann'): 3,\n",
       "         ('RMWA Drost', 'AMJ Elissen'): 3,\n",
       "         ('RMWA Drost', 'SMAA Evers'): 4,\n",
       "         ('RMWA Drost', 'MJC Hiligsmann'): 6,\n",
       "         ('AMJ Elissen', 'SMAA Evers'): 3,\n",
       "         ('AMJ Elissen', 'MJC Hiligsmann'): 3,\n",
       "         ('SMAA Evers', 'MJC Hiligsmann'): 4,\n",
       "         ('JCM van Haastregt', 'MHC Bleijlevens'): 3,\n",
       "         ('SMG Zwakhalen', 'MHC Bleijlevens'): 1,\n",
       "         ('SMG Zwakhalen', 'JMM Meijers'): 1,\n",
       "         ('MHC Bleijlevens', 'JMM Meijers'): 3,\n",
       "         ('MJG Govers', 'IM van der Putten'): 4,\n",
       "         ('MJG Govers', 'AJA van Raak'): 10,\n",
       "         ('IM van der Putten', 'AJA van Raak'): 3,\n",
       "         ('MHC Bleijlevens', 'JCM van Haastregt'): 3,\n",
       "         ('MHC Bleijlevens', 'SF Metzelthin'): 3,\n",
       "         ('MHC Bleijlevens', 'SMG Zwakhalen'): 1,\n",
       "         ('JCM van Haastregt', 'SF Metzelthin'): 3,\n",
       "         ('JCM van Haastregt', 'SMG Zwakhalen'): 1,\n",
       "         ('SF Metzelthin', 'SMG Zwakhalen'): 1,\n",
       "         ('H Verbeek', 'JCM van Haastregt'): 3,\n",
       "         ('H Verbeek', 'D Ruwaard'): 3,\n",
       "         ('JCM van Haastregt', 'D Ruwaard'): 3,\n",
       "         ('SMAA Evers', 'MI Pavlova'): 3,\n",
       "         ('MJC Hiligsmann', 'SMAA Evers'): 3,\n",
       "         ('MJC Hiligsmann', 'ATG Paulus'): 3,\n",
       "         ('MJC Hiligsmann', 'DD Westra'): 3,\n",
       "         ('SMAA Evers', 'ATG Paulus'): 3,\n",
       "         ('SMAA Evers', 'DD Westra'): 3,\n",
       "         ('ATG Paulus', 'DD Westra'): 3,\n",
       "         ('GAR Zijlstra', 'AMJ Elissen'): 3,\n",
       "         ('GAR Zijlstra', 'JCM van Haastregt'): 3,\n",
       "         ('GAR Zijlstra', 'IM van der Putten'): 3,\n",
       "         ('AMJ Elissen', 'JCM van Haastregt'): 3,\n",
       "         ('AMJ Elissen', 'IM van der Putten'): 3,\n",
       "         ('JCM van Haastregt', 'IM van der Putten'): 3,\n",
       "         ('RMWA Drost', 'MI Pavlova'): 3,\n",
       "         ('RMWA Drost', 'IM van der Putten'): 3,\n",
       "         ('MJC Hiligsmann', 'MI Pavlova'): 3,\n",
       "         ('MJC Hiligsmann', 'IM van der Putten'): 3,\n",
       "         ('MI Pavlova', 'IM van der Putten'): 4,\n",
       "         ('MI Pavlova', 'SMAA Evers'): 3,\n",
       "         ('MI Pavlova', 'MJG Govers'): 4,\n",
       "         ('SMAA Evers', 'MJG Govers'): 3,\n",
       "         ('SMAA Evers', 'IM van der Putten'): 1,\n",
       "         ('DD Westra', 'MJG Govers'): 3,\n",
       "         ('DD Westra', 'AJA van Raak'): 3,\n",
       "         ('AMJ Elissen', 'AJA van Raak'): 3,\n",
       "         ('AMJ Elissen', 'D Ruwaard'): 3,\n",
       "         ('AMJ Elissen', 'DD Westra'): 3,\n",
       "         ('AJA van Raak', 'D Ruwaard'): 3,\n",
       "         ('AJA van Raak', 'DD Westra'): 3,\n",
       "         ('D Ruwaard', 'DD Westra'): 3,\n",
       "         ('MJG Govers', 'S Groothuis'): 3,\n",
       "         ('S Groothuis', 'AJA van Raak'): 3,\n",
       "         ('MI Pavlova', 'WNJ Groot'): 4,\n",
       "         ('IM van der Putten', 'RMWA Drost'): 1,\n",
       "         ('IM van der Putten', 'MJG Govers'): 1,\n",
       "         ('RMWA Drost', 'MJG Govers'): 2,\n",
       "         ('AJA van Raak', 'MJG Govers'): 2,\n",
       "         ('PMG Erkens', 'GAR Zijlstra'): 2,\n",
       "         ('SF Metzelthin', 'MHC Bleijlevens'): 2,\n",
       "         ('SF Metzelthin', 'JMM Meijers'): 2,\n",
       "         ('MHC Bleijlevens', 'PMG Erkens'): 2,\n",
       "         ('PMG Erkens', 'JCM van Haastregt'): 2,\n",
       "         ('PMG Erkens', 'SF Metzelthin'): 2,\n",
       "         ('MJG Govers', 'WNJ Groot'): 2,\n",
       "         ('MI Pavlova', 'RMWA Drost'): 1,\n",
       "         ('RMWA Drost', 'S Groothuis'): 2,\n",
       "         ('SMAA Evers', 'S Groothuis'): 2,\n",
       "         ('S Groothuis', 'S Groothuis'): 1,\n",
       "         ('JCM van Haastregt', 'MEAL Kroese'): 1,\n",
       "         ('MHC Bleijlevens', 'MEAL Kroese'): 1})"
      ]
     },
     "execution_count": 55,
     "metadata": {},
     "output_type": "execute_result"
    }
   ],
   "source": [
    "from itertools import combinations\n",
    "from collections import Counter\n",
    "\n",
    "all_tuples = []\n",
    "for unityear in onderwijs.UnitYear.unique():\n",
    "    \n",
    "    # get rows of that unityear\n",
    "    # get staff in that unityear\n",
    "    staff = onderwijs.loc[onderwijs.UnitYear == unityear, 'Naam'].values\n",
    "\n",
    "    # get all combinations of 2 of staff in that unityear\n",
    "    for c in list(combinations(staff, 2)):\n",
    "        # print(unityear, c)\n",
    "        all_tuples.append(c)\n",
    "        \n",
    "Counter(all_tuples)\n",
    "        "
   ]
  },
  {
   "cell_type": "code",
   "execution_count": 61,
   "id": "0e94467a",
   "metadata": {
    "ExecuteTime": {
     "end_time": "2022-05-25T09:59:12.267084Z",
     "start_time": "2022-05-25T09:59:12.256974Z"
    }
   },
   "outputs": [],
   "source": [
    "onderwijs[['Name', 'Naam']].groupby('Naam').first().sort_values('Name').to_csv('../Data/onderwijsnamen.csv')"
   ]
  },
  {
   "cell_type": "code",
   "execution_count": 65,
   "id": "502b56f4",
   "metadata": {
    "ExecuteTime": {
     "end_time": "2022-05-25T10:20:43.893016Z",
     "start_time": "2022-05-25T10:20:43.872062Z"
    }
   },
   "outputs": [
    {
     "data": {
      "text/plain": [
       "array(['Member Planning Group', 'Coordinator Planning Group',\n",
       "       'Co-Coordinator Scriptie Ba-GW', 'Coordinator Scriptie Ba-GW',\n",
       "       'Member Curriculum Committee DTZ (temporary)',\n",
       "       'Developer (Block/Track/Elective) ', 'Coordinator Placement',\n",
       "       'Coordinator Minor', 'Member Education Programme Committee',\n",
       "       'Co-Coordinator Planning Group'], dtype=object)"
      ]
     },
     "execution_count": 65,
     "metadata": {},
     "output_type": "execute_result"
    }
   ],
   "source": [
    "onderwijs['Role name'].unique()"
   ]
  },
  {
   "cell_type": "code",
   "execution_count": 69,
   "id": "72d477db",
   "metadata": {
    "ExecuteTime": {
     "end_time": "2022-05-25T10:21:17.486766Z",
     "start_time": "2022-05-25T10:21:17.470675Z"
    }
   },
   "outputs": [
    {
     "name": "stdout",
     "output_type": "stream",
     "text": [
      "0 Member Planning Group\n",
      "1 Coordinator Planning Group\n",
      "2 Co-Coordinator Scriptie Ba-GW\n",
      "3 Coordinator Scriptie Ba-GW\n",
      "4 Member Curriculum Committee DTZ (temporary)\n",
      "5 Developer (Block/Track/Elective) \n",
      "6 Coordinator Placement\n",
      "7 Coordinator Minor\n",
      "8 Member Education Programme Committee\n",
      "9 Co-Coordinator Planning Group\n"
     ]
    }
   ],
   "source": [
    "for i, w in enumerate(onderwijs['Role name'].unique()):\n",
    "    print(i, w)"
   ]
  },
  {
   "cell_type": "code",
   "execution_count": 72,
   "id": "fb3fc9de",
   "metadata": {
    "ExecuteTime": {
     "end_time": "2022-05-25T10:23:13.557672Z",
     "start_time": "2022-05-25T10:23:13.547559Z"
    }
   },
   "outputs": [
    {
     "data": {
      "text/plain": [
       "{True: '#001C3D'}"
      ]
     },
     "execution_count": 72,
     "metadata": {},
     "output_type": "execute_result"
    }
   ],
   "source": [
    "HSR_COLORS = ['#001C3D', '#E84E10', '#00A2DB', '#F8B296', '#F8884A', '#005370', '#ABD1FF', '#A1360B']\n",
    "\n",
    "kleurdict = {waarde: HSR_COLORS[i] for i, waarde in enumerate(onderwijs['is_vaste_staf'].unique())}\n",
    "kleurdict"
   ]
  },
  {
   "cell_type": "code",
   "execution_count": null,
   "id": "590ab42c",
   "metadata": {},
   "outputs": [],
   "source": [
    "kleurdict = {}\n",
    "\n"
   ]
  }
 ],
 "metadata": {
  "kernelspec": {
   "display_name": "Python 3 (ipykernel)",
   "language": "python",
   "name": "python3"
  },
  "language_info": {
   "codemirror_mode": {
    "name": "ipython",
    "version": 3
   },
   "file_extension": ".py",
   "mimetype": "text/x-python",
   "name": "python",
   "nbconvert_exporter": "python",
   "pygments_lexer": "ipython3",
   "version": "3.7.4"
  },
  "toc": {
   "base_numbering": 1,
   "nav_menu": {},
   "number_sections": true,
   "sideBar": true,
   "skip_h1_title": false,
   "title_cell": "Table of Contents",
   "title_sidebar": "Contents",
   "toc_cell": false,
   "toc_position": {},
   "toc_section_display": true,
   "toc_window_display": false
  }
 },
 "nbformat": 4,
 "nbformat_minor": 5
}
